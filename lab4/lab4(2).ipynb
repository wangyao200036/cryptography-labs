{
 "cells": [
  {
   "cell_type": "code",
   "execution_count": 15,
   "id": "1b888b10-1d91-4993-914c-c16cbd4b15e6",
   "metadata": {},
   "outputs": [],
   "source": [
    "def gcd_euclidean(a,b):\n",
    "    a,b=abs(a),abs(b)\n",
    "\n",
    "    while b != 0:\n",
    "        a,b = b,a%b\n",
    "\n",
    "    return a"
   ]
  },
  {
   "cell_type": "code",
   "execution_count": 16,
   "id": "62f397e5-8baa-410f-a549-da61e8eed40f",
   "metadata": {},
   "outputs": [
    {
     "name": "stdout",
     "output_type": "stream",
     "text": [
      "class: 4\n"
     ]
    }
   ],
   "source": [
    "a,b=12,8\n",
    "print(\"class:\",gcd_euclidean(a,b))"
   ]
  },
  {
   "cell_type": "code",
   "execution_count": 17,
   "id": "9791abb3-28b3-4070-9f59-4104baa4ed6e",
   "metadata": {},
   "outputs": [],
   "source": [
    "def gcd_binary(a,b):\n",
    "    if a == 0:\n",
    "        return abs(b)\n",
    "    if b == 0:\n",
    "        return abs(a)\n",
    "\n",
    "    g = 0\n",
    "    while ((a|b) & 1) == 0:\n",
    "        a >>= 1\n",
    "        b >>= 1\n",
    "        g += 1\n",
    "\n",
    "    while (a & 1) == 0:\n",
    "        a >>= 1\n",
    "\n",
    "    while b != 0:\n",
    "        while (b & 1) == 0:\n",
    "            b >>= 1\n",
    "        if a > b:\n",
    "            a,b = b,a\n",
    "        b = b-a\n",
    "    return a << g"
   ]
  },
  {
   "cell_type": "code",
   "execution_count": 18,
   "id": "6ee90b86-28ef-4223-9645-02ebf851bbd1",
   "metadata": {},
   "outputs": [
    {
     "name": "stdout",
     "output_type": "stream",
     "text": [
      "2: 4\n"
     ]
    }
   ],
   "source": [
    "a,b=12,8\n",
    "print(\"2:\",gcd_binary(a,b))"
   ]
  },
  {
   "cell_type": "code",
   "execution_count": 19,
   "id": "ec37e7ac-df16-47a3-a4f1-c33e2b576606",
   "metadata": {},
   "outputs": [],
   "source": [
    "def extended_gcd(a,b):\n",
    "    a,b=abs(a),abs(b)\n",
    "    \n",
    "    x1,y1 = 1,0\n",
    "    x2,y2 = 0,1\n",
    "    \n",
    "    while b != 0:\n",
    "        q =a // b\n",
    "        r = a % b\n",
    "        a,b = b,r\n",
    "\n",
    "        x1,x2 = x2,x1-q*x2\n",
    "        y1,y2 = y2,y1-q*y2\n",
    "    return a, x1,y1"
   ]
  },
  {
   "cell_type": "code",
   "execution_count": 20,
   "id": "b73301e2-bf58-4d53-b8cf-17c9ceb98507",
   "metadata": {},
   "outputs": [
    {
     "name": "stdout",
     "output_type": "stream",
     "text": [
      "3: (4, 1, -1)\n"
     ]
    }
   ],
   "source": [
    "a,b=12,8\n",
    "print(\"3:\",extended_gcd(a,b))"
   ]
  },
  {
   "cell_type": "code",
   "execution_count": null,
   "id": "2cc22e47-d3c5-4db0-8afc-14078619147a",
   "metadata": {},
   "outputs": [],
   "source": [
    "def extend_binary_gcd(a,b):\n",
    "    if a == 0:\n",
    "        return b,0,1\n",
    "    if b == 0:\n",
    "        return a,1,0\n",
    "\n",
    "    a_sign = 1 if a >= 0 else -1\n",
    "    b_sign = 1 if b >= 0 else -1\n",
    "    a,b=abs(a),abs(b)\n",
    "\n",
    "    swapped = False\n",
    "    if b > a:\n",
    "        a,b = b,a\n",
    "        swapped = True\n",
    "\n",
    "    g=0\n",
    "    while ((a |b) & 1) == 0:\n",
    "        a >>= 1\n",
    "        b >>= 1\n",
    "        g += 1\n",
    "    u,v = a,b\n",
    "\n",
    "    A,B,C,D = 1,0,0,1\n",
    "\n",
    "    while v != 0:\n",
    "        while (u & 1) == 0:\n",
    "            u >>= 1\n",
    "            if (A & 1) or (B & 1):\n",
    "                A += b\n",
    "                B -= a\n",
    "            A >>= 1\n",
    "            B >>= 1\n",
    "\n",
    "        while (v & 1) == 0:\n",
    "            v >>= 1\n",
    "            if (C & 1) or (D & 1):\n",
    "                C += b\n",
    "                D -= a\n",
    "            C >>= 1\n",
    "            D >>= 1\n",
    "\n",
    "        if u >=v:\n",
    "            u -= v\n",
    "            A -= C\n",
    "            B -= D\n",
    "\n",
    "        else:\n",
    "            v -= u\n",
    "            C -= A\n",
    "            D -= B\n",
    "\n",
    "    gcd = u << g\n",
    "    x = C << g\n",
    "    y = D <<g\n",
    "\n",
    "    if swapped:\n",
    "        x,y = y,x\n",
    "\n",
    "    x *= a_sign\n",
    "    y *= b_sign\n",
    "\n",
    "    return gcd,x,y"
   ]
  }
 ],
 "metadata": {
  "kernelspec": {
   "display_name": "Python (base)",
   "language": "python",
   "name": "base"
  },
  "language_info": {
   "codemirror_mode": {
    "name": "ipython",
    "version": 3
   },
   "file_extension": ".py",
   "mimetype": "text/x-python",
   "name": "python",
   "nbconvert_exporter": "python",
   "pygments_lexer": "ipython3",
   "version": "3.8.3"
  }
 },
 "nbformat": 4,
 "nbformat_minor": 5
}
